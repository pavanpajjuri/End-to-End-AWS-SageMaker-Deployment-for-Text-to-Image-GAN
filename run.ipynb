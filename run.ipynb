{
 "cells": [
  {
   "cell_type": "code",
   "execution_count": 3,
   "id": "e5c57821-9c3d-4333-bce3-d8496a7d1d9b",
   "metadata": {},
   "outputs": [
    {
     "name": "stdout",
     "output_type": "stream",
     "text": [
      "/home/ec2-user/anaconda3/envs/pytorch_p310/lib/python3.10/site-packages/pydantic/_internal/_fields.py:192: UserWarning: Field name \"json\" in \"MonitoringDatasetFormat\" shadows an attribute in parent \"Base\"\n",
      "  warnings.warn(\n",
      "\u001b[2;36m[02/28/25 23:10:47]\u001b[0m\u001b[2;36m \u001b[0m\u001b[1;94mINFO    \u001b[0m Found credentials from IAM      \u001b]8;id=373180;file:///home/ec2-user/anaconda3/envs/pytorch_p310/lib/python3.10/site-packages/botocore/credentials.py\u001b\\\u001b[2mcredentials.py\u001b[0m\u001b]8;;\u001b\\\u001b[2m:\u001b[0m\u001b]8;id=768811;file:///home/ec2-user/anaconda3/envs/pytorch_p310/lib/python3.10/site-packages/botocore/credentials.py#1132\u001b\\\u001b[2m1132\u001b[0m\u001b]8;;\u001b\\\n",
      "\u001b[2;36m                    \u001b[0m         Role:                           \u001b[2m                   \u001b[0m\n",
      "\u001b[2;36m                    \u001b[0m         BaseNotebookInstanceEc2Instance \u001b[2m                   \u001b[0m\n",
      "\u001b[2;36m                    \u001b[0m         Role                            \u001b[2m                   \u001b[0m\n",
      "sagemaker.config INFO - Not applying SDK defaults from location: /etc/xdg/sagemaker/config.yaml\n",
      "sagemaker.config INFO - Not applying SDK defaults from location: /home/ec2-user/.config/sagemaker/config.yaml\n",
      "\u001b[2;36m                   \u001b[0m\u001b[2;36m \u001b[0m\u001b[1;94mINFO    \u001b[0m Found credentials from IAM      \u001b]8;id=39637;file:///home/ec2-user/anaconda3/envs/pytorch_p310/lib/python3.10/site-packages/botocore/credentials.py\u001b\\\u001b[2mcredentials.py\u001b[0m\u001b]8;;\u001b\\\u001b[2m:\u001b[0m\u001b]8;id=241501;file:///home/ec2-user/anaconda3/envs/pytorch_p310/lib/python3.10/site-packages/botocore/credentials.py#1132\u001b\\\u001b[2m1132\u001b[0m\u001b]8;;\u001b\\\n",
      "\u001b[2;36m                    \u001b[0m         Role:                           \u001b[2m                   \u001b[0m\n",
      "\u001b[2;36m                    \u001b[0m         BaseNotebookInstanceEc2Instance \u001b[2m                   \u001b[0m\n",
      "\u001b[2;36m                    \u001b[0m         Role                            \u001b[2m                   \u001b[0m\n",
      "\u001b[2;36m[02/28/25 23:10:48]\u001b[0m\u001b[2;36m \u001b[0m\u001b[1;94mINFO    \u001b[0m Found credentials from IAM      \u001b]8;id=618816;file:///home/ec2-user/anaconda3/envs/pytorch_p310/lib/python3.10/site-packages/botocore/credentials.py\u001b\\\u001b[2mcredentials.py\u001b[0m\u001b]8;;\u001b\\\u001b[2m:\u001b[0m\u001b]8;id=986931;file:///home/ec2-user/anaconda3/envs/pytorch_p310/lib/python3.10/site-packages/botocore/credentials.py#1132\u001b\\\u001b[2m1132\u001b[0m\u001b]8;;\u001b\\\n",
      "\u001b[2;36m                    \u001b[0m         Role:                           \u001b[2m                   \u001b[0m\n",
      "\u001b[2;36m                    \u001b[0m         BaseNotebookInstanceEc2Instance \u001b[2m                   \u001b[0m\n",
      "\u001b[2;36m                    \u001b[0m         Role                            \u001b[2m                   \u001b[0m\n",
      "\u001b[2;36m                   \u001b[0m\u001b[2;36m \u001b[0m\u001b[1;94mINFO    \u001b[0m Repacking model artifact               \u001b]8;id=757440;file:///home/ec2-user/anaconda3/envs/pytorch_p310/lib/python3.10/site-packages/sagemaker/model.py\u001b\\\u001b[2mmodel.py\u001b[0m\u001b]8;;\u001b\\\u001b[2m:\u001b[0m\u001b]8;id=645461;file:///home/ec2-user/anaconda3/envs/pytorch_p310/lib/python3.10/site-packages/sagemaker/model.py#819\u001b\\\u001b[2m819\u001b[0m\u001b]8;;\u001b\\\n",
      "\u001b[2;36m                    \u001b[0m         \u001b[1m(\u001b[0ms3:\u001b[35m/\u001b[0m\u001b[35m/cv-data-pavanpaj/saved_models/\u001b[0m\u001b[35mmo\u001b[0m \u001b[2m            \u001b[0m\n",
      "\u001b[2;36m                    \u001b[0m         \u001b[35mdel.tar.gz\u001b[0m\u001b[1m)\u001b[0m, script artifact           \u001b[2m            \u001b[0m\n",
      "\u001b[2;36m                    \u001b[0m         \u001b[1m(\u001b[0mscripts\u001b[1m)\u001b[0m, and dependencies \u001b[1m(\u001b[0m\u001b[1m[\u001b[0m\u001b[1m]\u001b[0m\u001b[1m)\u001b[0m into  \u001b[2m            \u001b[0m\n",
      "\u001b[2;36m                    \u001b[0m         single tar.gz file located at          \u001b[2m            \u001b[0m\n",
      "\u001b[2;36m                    \u001b[0m         s3:\u001b[35m/\u001b[0m\u001b[35m/sagemaker-us-east-2-881490123727/\u001b[0m \u001b[2m            \u001b[0m\n",
      "\u001b[2;36m                    \u001b[0m         \u001b[35mpytorch-inference-2025-02-28-23-10-48-\u001b[0m \u001b[2m            \u001b[0m\n",
      "\u001b[2;36m                    \u001b[0m         \u001b[35m481/\u001b[0m\u001b[35mmodel.tar.gz.\u001b[0m This may take some   \u001b[2m            \u001b[0m\n",
      "\u001b[2;36m                    \u001b[0m         time depending on model size\u001b[33m...\u001b[0m        \u001b[2m            \u001b[0m\n",
      "\u001b[2;36m[02/28/25 23:10:51]\u001b[0m\u001b[2;36m \u001b[0m\u001b[1;94mINFO    \u001b[0m Creating model with name:           \u001b]8;id=208652;file:///home/ec2-user/anaconda3/envs/pytorch_p310/lib/python3.10/site-packages/sagemaker/session.py\u001b\\\u001b[2msession.py\u001b[0m\u001b]8;;\u001b\\\u001b[2m:\u001b[0m\u001b]8;id=169261;file:///home/ec2-user/anaconda3/envs/pytorch_p310/lib/python3.10/site-packages/sagemaker/session.py#4094\u001b\\\u001b[2m4094\u001b[0m\u001b]8;;\u001b\\\n",
      "\u001b[2;36m                    \u001b[0m         pytorch-inference-\u001b[1;36m2025\u001b[0m-02-28-23-10- \u001b[2m               \u001b[0m\n",
      "\u001b[2;36m                    \u001b[0m         51-929                              \u001b[2m               \u001b[0m\n",
      "\u001b[2;36m[02/28/25 23:10:52]\u001b[0m\u001b[2;36m \u001b[0m\u001b[1;94mINFO    \u001b[0m Creating endpoint-config with name  \u001b]8;id=208006;file:///home/ec2-user/anaconda3/envs/pytorch_p310/lib/python3.10/site-packages/sagemaker/session.py\u001b\\\u001b[2msession.py\u001b[0m\u001b]8;;\u001b\\\u001b[2m:\u001b[0m\u001b]8;id=105221;file:///home/ec2-user/anaconda3/envs/pytorch_p310/lib/python3.10/site-packages/sagemaker/session.py#5889\u001b\\\u001b[2m5889\u001b[0m\u001b]8;;\u001b\\\n",
      "\u001b[2;36m                    \u001b[0m         pytorch-inference-\u001b[1;36m2025\u001b[0m-02-28-23-10- \u001b[2m               \u001b[0m\n",
      "\u001b[2;36m                    \u001b[0m         52-554                              \u001b[2m               \u001b[0m\n",
      "\u001b[2;36m                   \u001b[0m\u001b[2;36m \u001b[0m\u001b[1;94mINFO    \u001b[0m Creating endpoint with name         \u001b]8;id=697866;file:///home/ec2-user/anaconda3/envs/pytorch_p310/lib/python3.10/site-packages/sagemaker/session.py\u001b\\\u001b[2msession.py\u001b[0m\u001b]8;;\u001b\\\u001b[2m:\u001b[0m\u001b]8;id=587744;file:///home/ec2-user/anaconda3/envs/pytorch_p310/lib/python3.10/site-packages/sagemaker/session.py#4711\u001b\\\u001b[2m4711\u001b[0m\u001b]8;;\u001b\\\n",
      "\u001b[2;36m                    \u001b[0m         pytorch-inference-\u001b[1;36m2025\u001b[0m-02-28-23-10- \u001b[2m               \u001b[0m\n",
      "\u001b[2;36m                    \u001b[0m         52-554                              \u001b[2m               \u001b[0m\n",
      "------!SageMaker Endpoint Deployed Successfully!\n"
     ]
    }
   ],
   "source": [
    "!python scripts/deploy.py"
   ]
  },
  {
   "cell_type": "code",
   "execution_count": 4,
   "id": "65d9dffd-fa1c-4b7e-b252-bc7377ce1891",
   "metadata": {},
   "outputs": [
    {
     "name": "stdout",
     "output_type": "stream",
     "text": [
      "pytorch-inference-2025-02-28-23-10-52-554 - InService\n"
     ]
    }
   ],
   "source": [
    "import boto3\n",
    "\n",
    "sagemaker_client = boto3.client(\"sagemaker\")\n",
    "\n",
    "# List all SageMaker Endpoints\n",
    "response = sagemaker_client.list_endpoints()\n",
    "\n",
    "# Print active endpoints\n",
    "for endpoint in response[\"Endpoints\"]:\n",
    "    print(endpoint[\"EndpointName\"], \"-\", endpoint[\"EndpointStatus\"])\n"
   ]
  },
  {
   "cell_type": "code",
   "execution_count": null,
   "id": "832ebe5f-4229-4916-ae6f-8368da41f621",
   "metadata": {},
   "outputs": [],
   "source": []
  }
 ],
 "metadata": {
  "kernelspec": {
   "display_name": "conda_pytorch_p310",
   "language": "python",
   "name": "conda_pytorch_p310"
  },
  "language_info": {
   "codemirror_mode": {
    "name": "ipython",
    "version": 3
   },
   "file_extension": ".py",
   "mimetype": "text/x-python",
   "name": "python",
   "nbconvert_exporter": "python",
   "pygments_lexer": "ipython3",
   "version": "3.10.14"
  }
 },
 "nbformat": 4,
 "nbformat_minor": 5
}
